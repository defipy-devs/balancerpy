{
 "cells": [
  {
   "cell_type": "markdown",
   "id": "9f46d3a1-bd27-426b-a28c-6ec800d5971f",
   "metadata": {},
   "source": [
    "# Abstract Interface\n",
    "\n",
    "**Join()**: joins X and Y amounts to pool <br>\n",
    "**Swap()**: swaps X for Y (and vice verse) via out-given-in or in-given-out<br>\n",
    "**AddLiquidity()**: adds liquidity using token or share amounts <br>\n",
    "**RemoveLiquidity()**: removes liquidity using token or share amounts <br>"
   ]
  },
  {
   "cell_type": "code",
   "execution_count": 1,
   "id": "ae01cb6c-9b39-424c-adb4-6d05b13eadea",
   "metadata": {},
   "outputs": [],
   "source": [
    "from balancerpy import *"
   ]
  },
  {
   "cell_type": "code",
   "execution_count": 2,
   "id": "5990d3a3-f107-4dc3-921c-adb7c7bc499d",
   "metadata": {},
   "outputs": [],
   "source": [
    "user_nm = 'user_test'\n",
    "\n",
    "amt_dai = 10000000\n",
    "denorm_wt_dai = 10\n",
    "\n",
    "amt_eth = 67738.6361731024\n",
    "denorm_wt_eth = 40\n",
    "\n",
    "init_pool_shares = 100"
   ]
  },
  {
   "cell_type": "markdown",
   "id": "728e5b12-5b99-45ae-863d-4999271df3e0",
   "metadata": {},
   "source": [
    "### Join()"
   ]
  },
  {
   "cell_type": "code",
   "execution_count": 3,
   "id": "1e30ffb3-8017-423f-870e-a66e07494d77",
   "metadata": {},
   "outputs": [
    {
     "name": "stdout",
     "output_type": "stream",
     "text": [
      "Balancer Exchange: DAI-WETH (LP)\n",
      "Reserves: DAI = 10000000, WETH = 67738.6361731024\n",
      "Weights: DAI = 0.2, WETH = 0.8\n",
      "Pool Shares: 100 \n",
      "\n"
     ]
    }
   ],
   "source": [
    "dai = ERC20(\"DAI\", \"0x111\")\n",
    "dai.deposit(None, amt_dai)\n",
    "\n",
    "weth = ERC20(\"WETH\", \"0x09\")\n",
    "weth.deposit(None, amt_eth)\n",
    "\n",
    "bgrp = BalancerVault()\n",
    "bgrp.add_token(dai, denorm_wt_dai)\n",
    "bgrp.add_token(weth, denorm_wt_eth)\n",
    "\n",
    "bfactory = BalancerFactory(\"WETH pool factory\", \"0x2\")\n",
    "exchg_data = BalancerExchangeData(vault = bgrp, symbol=\"LP\", address=\"0x011\")\n",
    "lp = bfactory.deploy(exchg_data)\n",
    "\n",
    "Join().apply(lp, user_nm, init_pool_shares)\n",
    "lp.summary()"
   ]
  },
  {
   "cell_type": "markdown",
   "id": "9611ac11-9ec6-48f4-899d-3104a19fe344",
   "metadata": {},
   "source": [
    "### Swap (out-given-in)"
   ]
  },
  {
   "cell_type": "code",
   "execution_count": 4,
   "id": "5b10ffe6-131d-4469-8145-6f28eb7a0f3f",
   "metadata": {},
   "outputs": [
    {
     "name": "stdout",
     "output_type": "stream",
     "text": [
      "Balancer Exchange: DAI-WETH (LP)\n",
      "Reserves: DAI = 10010000, WETH = 67721.75437414162\n",
      "Weights: DAI = 0.2, WETH = 0.8\n",
      "Pool Shares: 100 \n",
      "\n",
      "10000 DAI was swapped into 16.881798960778035 WETH\n"
     ]
    }
   ],
   "source": [
    "amt_tkn_in = 10000\n",
    "tkn_in = dai\n",
    "tkn_out = weth\n",
    "\n",
    "res = Swap(Proc.SWAPOUT).apply(lp, tkn_in, tkn_out, user_nm, amt_tkn_in)\n",
    "lp.summary()\n",
    "\n",
    "print(f\"{amt_tkn_in} {tkn_in.token_name} was swapped into {res['tkn_out_amt']} {tkn_out.token_name}\")"
   ]
  },
  {
   "cell_type": "markdown",
   "id": "ed547276-5c7b-4ea2-9fa5-1beb5fa26691",
   "metadata": {},
   "source": [
    "### Swap (out-given-in)"
   ]
  },
  {
   "cell_type": "code",
   "execution_count": 5,
   "id": "fa89e986-2a31-4f98-aeb1-cd520db7f0fb",
   "metadata": {},
   "outputs": [
    {
     "name": "stdout",
     "output_type": "stream",
     "text": [
      "Balancer Exchange: DAI-WETH (LP)\n",
      "Reserves: DAI = 9998136.750149786, WETH = 67741.75437414162\n",
      "Weights: DAI = 0.2, WETH = 0.8\n",
      "Pool Shares: 100 \n",
      "\n",
      "20 WETH was swapped into 11863.249850213939 DAI\n"
     ]
    }
   ],
   "source": [
    "amt_tkn_out = 20\n",
    "tkn_out = weth\n",
    "tkn_in = dai\n",
    "\n",
    "res = Swap(Proc.SWAPIN).apply(lp, tkn_in, tkn_out, user_nm, amt_tkn_out)\n",
    "lp.summary()\n",
    "\n",
    "print(f\"{amt_tkn_out} {tkn_out.token_name} was swapped into {res['tkn_in_amt']} {tkn_in.token_name}\")"
   ]
  },
  {
   "cell_type": "markdown",
   "id": "4d0d3b7b-1e8a-4ef0-a9eb-48778b5dcb4a",
   "metadata": {},
   "source": [
    "### AddLiquidity (based on token amounts)"
   ]
  },
  {
   "cell_type": "code",
   "execution_count": 6,
   "id": "c57a83a1-0dd5-4ea9-8119-271c794bbab4",
   "metadata": {},
   "outputs": [
    {
     "name": "stdout",
     "output_type": "stream",
     "text": [
      "Balancer Exchange: DAI-WETH (LP)\n",
      "Reserves: DAI = 9998136.750149786, WETH = 67766.75437414162\n",
      "Weights: DAI = 0.2, WETH = 0.8\n",
      "Pool Shares: 100.0295080381873 \n",
      "\n",
      "25 WETH was added resulting in anadditional 0.029508038187306896 LP shares\n"
     ]
    }
   ],
   "source": [
    "tkn_in = weth\n",
    "amt_tkn_in = 25\n",
    "\n",
    "res = AddLiquidity(Proc.ADDTKN).apply(lp, tkn_in, user_nm, amt_tkn_in)\n",
    "lp.summary()\n",
    "\n",
    "print(f\"{amt_tkn_in} {tkn_in.token_name} was added resulting in anadditional {res['shares_in_amt']} LP shares\")"
   ]
  },
  {
   "cell_type": "markdown",
   "id": "b04d4067-2fc1-4d23-a36b-062ebc4026d1",
   "metadata": {},
   "source": [
    "### AddLiquidity (based on LP share amounts)"
   ]
  },
  {
   "cell_type": "code",
   "execution_count": 7,
   "id": "3d8c93fe-feff-40c4-a796-12da673e76cc",
   "metadata": {},
   "outputs": [
    {
     "name": "stdout",
     "output_type": "stream",
     "text": [
      "Balancer Exchange: DAI-WETH (LP)\n",
      "Reserves: DAI = 9998136.750149786, WETH = 89572.57081082885\n",
      "Weights: DAI = 0.2, WETH = 0.8\n",
      "Pool Shares: 125.0295080381873 \n",
      "\n",
      "10 LP shares were added resulting in an additional 21805.816436687244 WETH\n"
     ]
    }
   ],
   "source": [
    "tkn_in = weth\n",
    "amt_shares_in = 10\n",
    "\n",
    "res = AddLiquidity(Proc.ADDSHARES).apply(lp, tkn_in, user_nm, amt_tkn_in)\n",
    "lp.summary()\n",
    "\n",
    "print(f\"{amt_shares_in} LP shares were added resulting in an additional {res['tkn_in_amt']} {tkn_in.token_name}\")"
   ]
  },
  {
   "cell_type": "markdown",
   "id": "7154bfe2-8fdd-4def-b35f-39cdb5c43821",
   "metadata": {},
   "source": [
    "### RemoveLiquidity (based on token amounts)"
   ]
  },
  {
   "cell_type": "code",
   "execution_count": 8,
   "id": "f2d30329-4cd3-462e-acbb-85f19ba91ee6",
   "metadata": {},
   "outputs": [
    {
     "name": "stdout",
     "output_type": "stream",
     "text": [
      "Balancer Exchange: DAI-WETH (LP)\n",
      "Reserves: DAI = 9998136.750149786, WETH = 89547.57081082885\n",
      "Weights: DAI = 0.2, WETH = 0.8\n",
      "Pool Shares: 125.00157637419014 \n",
      "\n",
      "25 WETH was removed resulting in the removal of 0.027931663997160863 LP shares\n"
     ]
    }
   ],
   "source": [
    "tkn_out = weth\n",
    "amt_tkn_out = 25\n",
    "\n",
    "res = RemoveLiquidity(Proc.REMOVETKN).apply(lp, tkn_out, user_nm, amt_tkn_out)\n",
    "lp.summary()\n",
    "\n",
    "print(f\"{amt_tkn_out} {tkn_out.token_name} was removed resulting in the removal of {res['shares_out_amt']} LP shares\")"
   ]
  },
  {
   "cell_type": "markdown",
   "id": "94edffa7-b072-4103-895f-05a52951bf91",
   "metadata": {},
   "source": [
    "### Remove liquidity (based on LP share amounts)"
   ]
  },
  {
   "cell_type": "code",
   "execution_count": 9,
   "id": "ab54f334-5e4d-4997-a443-1e0b37c59dfe",
   "metadata": {},
   "outputs": [
    {
     "name": "stdout",
     "output_type": "stream",
     "text": [
      "Balancer Exchange: DAI-WETH (LP)\n",
      "Reserves: DAI = 9998136.750149786, WETH = 67762.25606660856\n",
      "Weights: DAI = 0.2, WETH = 0.8\n",
      "Pool Shares: 100.00157637419014 \n",
      "\n",
      "10 LP shares were removed resulting in the removal of 21785.314744220294 WETH\n"
     ]
    }
   ],
   "source": [
    "tkn_out = weth\n",
    "amt_shares_out = 10\n",
    "\n",
    "res = RemoveLiquidity(Proc.REMOVESHARES).apply(lp, tkn_out, user_nm, amt_tkn_out)\n",
    "lp.summary()\n",
    "\n",
    "print(f\"{amt_shares_out} LP shares were removed resulting in the removal of {res['tkn_out_amt']} {tkn_out.token_name}\")"
   ]
  }
 ],
 "metadata": {
  "kernelspec": {
   "display_name": "Python 3 (ipykernel)",
   "language": "python",
   "name": "python3"
  },
  "language_info": {
   "codemirror_mode": {
    "name": "ipython",
    "version": 3
   },
   "file_extension": ".py",
   "mimetype": "text/x-python",
   "name": "python",
   "nbconvert_exporter": "python",
   "pygments_lexer": "ipython3",
   "version": "3.10.0rc2"
  }
 },
 "nbformat": 4,
 "nbformat_minor": 5
}
