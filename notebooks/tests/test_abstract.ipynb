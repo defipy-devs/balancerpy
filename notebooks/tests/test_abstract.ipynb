{
 "cells": [
  {
   "cell_type": "code",
   "execution_count": 1,
   "id": "ae01cb6c-9b39-424c-adb4-6d05b13eadea",
   "metadata": {},
   "outputs": [],
   "source": [
    "from balancerpy import *"
   ]
  },
  {
   "cell_type": "code",
   "execution_count": 2,
   "id": "5990d3a3-f107-4dc3-921c-adb7c7bc499d",
   "metadata": {},
   "outputs": [],
   "source": [
    "user_nm = 'user_test'\n",
    "\n",
    "amt_dai = 10000000\n",
    "denorm_wt_dai = 10\n",
    "\n",
    "amt_eth = 67738.6361731024\n",
    "denorm_wt_eth = 40\n",
    "\n",
    "init_pool_shares = 100"
   ]
  },
  {
   "cell_type": "code",
   "execution_count": 3,
   "id": "1e30ffb3-8017-423f-870e-a66e07494d77",
   "metadata": {},
   "outputs": [
    {
     "name": "stdout",
     "output_type": "stream",
     "text": [
      "Balancer Exchange: DAI-WETH (LP)\n",
      "Reserves: DAI = 10000000, WETH = 67738.6361731024\n",
      "Weights: DAI = 0.2, WETH = 0.8\n",
      "Pool Shares: 100 \n",
      "\n"
     ]
    }
   ],
   "source": [
    "dai = ERC20(\"DAI\", \"0x111\")\n",
    "dai.deposit(None, amt_dai)\n",
    "\n",
    "weth = ERC20(\"WETH\", \"0x09\")\n",
    "weth.deposit(None, amt_eth)\n",
    "\n",
    "bgrp = BalancerVault()\n",
    "bgrp.add_token(dai, denorm_wt_dai)\n",
    "bgrp.add_token(weth, denorm_wt_eth)\n",
    "\n",
    "bfactory = BalancerFactory(\"WETH pool factory\", \"0x2\")\n",
    "exchg_data = BalancerExchangeData(vault = bgrp, symbol=\"LP\", address=\"0x011\")\n",
    "lp = bfactory.deploy(exchg_data)\n",
    "\n",
    "Join().apply(lp, user_nm, init_pool_shares)\n",
    "lp.summary()"
   ]
  },
  {
   "cell_type": "markdown",
   "id": "9611ac11-9ec6-48f4-899d-3104a19fe344",
   "metadata": {},
   "source": [
    "### Swap (out-given-in)"
   ]
  },
  {
   "cell_type": "code",
   "execution_count": 4,
   "id": "5b10ffe6-131d-4469-8145-6f28eb7a0f3f",
   "metadata": {},
   "outputs": [
    {
     "name": "stdout",
     "output_type": "stream",
     "text": [
      "10000 DAI was swapped into 16.881798960778035 WETH\n"
     ]
    }
   ],
   "source": [
    "amt_tkn_in = 10000\n",
    "tkn_in = dai\n",
    "tkn_out = weth\n",
    "res = Swap(Proc.SWAPOUT).apply(lp, tkn_in, tkn_out, user_nm, amt_tkn_in)\n",
    "\n",
    "print(f\"{amt_tkn_in} {tkn_in.token_name} was swapped into {res['tkn_out_amt']} {tkn_out.token_name}\")"
   ]
  },
  {
   "cell_type": "markdown",
   "id": "ed547276-5c7b-4ea2-9fa5-1beb5fa26691",
   "metadata": {},
   "source": [
    "### Swap (out-given-in)"
   ]
  },
  {
   "cell_type": "code",
   "execution_count": 5,
   "id": "f2d30329-4cd3-462e-acbb-85f19ba91ee6",
   "metadata": {},
   "outputs": [],
   "source": [
    "swap = Swap()\n",
    "addliquidity = AddLiquidity()\n",
    "removeliquidity = RemoveLiquidity()"
   ]
  }
 ],
 "metadata": {
  "kernelspec": {
   "display_name": "Python 3 (ipykernel)",
   "language": "python",
   "name": "python3"
  },
  "language_info": {
   "codemirror_mode": {
    "name": "ipython",
    "version": 3
   },
   "file_extension": ".py",
   "mimetype": "text/x-python",
   "name": "python",
   "nbconvert_exporter": "python",
   "pygments_lexer": "ipython3",
   "version": "3.10.0rc2"
  }
 },
 "nbformat": 4,
 "nbformat_minor": 5
}
